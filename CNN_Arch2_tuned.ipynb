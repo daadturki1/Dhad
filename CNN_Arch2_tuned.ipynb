{
  "cells": [
    {
      "cell_type": "markdown",
      "metadata": {
        "id": "3DR-eO17geWu"
      },
      "source": [
        "# Convolutional Neural Network"
      ]
    },
    {
      "cell_type": "markdown",
      "metadata": {
        "id": "EMefrVPCg-60"
      },
      "source": [
        "Importing the libraries"
      ]
    },
    {
      "cell_type": "code",
      "execution_count": null,
      "metadata": {
        "id": "ltVe0u95dnLt"
      },
      "outputs": [],
      "source": [
        "import tensorflow as tf\n",
        "import sys\n",
        "from keras.preprocessing.image import ImageDataGenerator\n",
        "from pathlib import Path"
      ]
    },
    {
      "cell_type": "code",
      "source": [
        "from zipfile import ZipFile\n",
        "file_name = \"/content/Dhad-Split.zip\"\n",
        "\n",
        "with ZipFile(file_name, 'r') as zip:\n",
        "  zip.extractall()\n",
        "  print('Done')"
      ],
      "metadata": {
        "colab": {
          "base_uri": "https://localhost:8080/"
        },
        "id": "jTtdXxwL7LFa",
        "outputId": "e8166d74-5035-4899-b68c-ce69180ae2a3"
      },
      "execution_count": null,
      "outputs": [
        {
          "output_type": "stream",
          "name": "stdout",
          "text": [
            "Done\n"
          ]
        }
      ]
    },
    {
      "cell_type": "markdown",
      "metadata": {
        "id": "oxQxCBWyoGPE"
      },
      "source": [
        "## Part 1 - Data Preprocessing"
      ]
    },
    {
      "cell_type": "markdown",
      "metadata": {
        "id": "MvE-heJNo3GG"
      },
      "source": [
        "### Preprocessing the Training set"
      ]
    },
    {
      "cell_type": "code",
      "execution_count": null,
      "metadata": {
        "id": "RZ5r5EpweEAv"
      },
      "outputs": [],
      "source": [
        "train_datagen = ImageDataGenerator (\n",
        "    rescale = 1./255.,\n",
        ")\n",
        "training_set = train_datagen.flow_from_directory (\n",
        "    \"/content/Dhad-Split/train-aug\",  \n",
        "    target_size=(32,32),\n",
        "    batch_size=256,\n",
        "    class_mode=\"categorical\",\n",
        "    color_mode=\"grayscale\",\n",
        "    shuffle=True,\n",
        "    seed=42\n",
        ")"
      ]
    },
    {
      "cell_type": "markdown",
      "metadata": {
        "id": "mrCMmGw9pHys"
      },
      "source": [
        "### Preprocessing the Validation set"
      ]
    },
    {
      "cell_type": "code",
      "execution_count": null,
      "metadata": {
        "id": "sdO17qWYgz2q"
      },
      "outputs": [],
      "source": [
        "val_datagen = ImageDataGenerator (\n",
        "    rescale=1./255,\n",
        ")\n",
        "validation_set = val_datagen.flow_from_directory (\n",
        "    \"/content/Dhad-Split/val\",\n",
        "    target_size=(32,32),\n",
        "    batch_size=32,\n",
        "    class_mode=\"categorical\",\n",
        "    color_mode=\"grayscale\",\n",
        "    shuffle=True,\n",
        "    seed=42\n",
        ")"
      ]
    },
    {
      "cell_type": "markdown",
      "metadata": {
        "id": "af8O4l90gk7B"
      },
      "source": [
        "## Part 2 - Building the CNN"
      ]
    },
    {
      "cell_type": "markdown",
      "metadata": {
        "id": "ces1gXY2lmoX"
      },
      "source": [
        "### Initialising the CNN"
      ]
    },
    {
      "cell_type": "code",
      "execution_count": null,
      "metadata": {
        "id": "IqwSdu5RFEaK"
      },
      "outputs": [],
      "source": [
        "cnn = tf.keras.models.Sequential()"
      ]
    },
    {
      "cell_type": "markdown",
      "metadata": {
        "id": "u5YJj_XMl5LF"
      },
      "source": [
        "### Step 1 - Convolution"
      ]
    },
    {
      "cell_type": "code",
      "execution_count": null,
      "metadata": {
        "id": "oe_fmxQDGTPZ"
      },
      "outputs": [],
      "source": [
        "cnn.add(tf.keras.layers.Conv2D(\n",
        "    input_shape = (32, 32, 1),\n",
        "    filters=64,\n",
        "    kernel_size=(3,3),\n",
        "    strides=(1, 1),\n",
        "    activation=\"relu\",\n",
        "    padding=\"same\"))"
      ]
    },
    {
      "cell_type": "markdown",
      "metadata": {
        "id": "tf87FpvxmNOJ"
      },
      "source": [
        "### Step 2 - Pooling"
      ]
    },
    {
      "cell_type": "code",
      "execution_count": null,
      "metadata": {
        "id": "VNn5y8Z1axo3"
      },
      "outputs": [],
      "source": [
        "cnn.add(tf.keras.layers.MaxPool2D(\n",
        "    pool_size=(2,2),\n",
        "    strides=2))"
      ]
    },
    {
      "cell_type": "markdown",
      "metadata": {
        "id": "xaTOgD8rm4mU"
      },
      "source": [
        "### Adding a second convolutional layer"
      ]
    },
    {
      "cell_type": "code",
      "execution_count": null,
      "metadata": {
        "id": "ay7iO77yc93s"
      },
      "outputs": [],
      "source": [
        "cnn.add(tf.keras.layers.Conv2D(\n",
        "    filters=128,\n",
        "    kernel_size=(3,3),\n",
        "    strides=(1, 1),\n",
        "    activation=\"relu\",\n",
        "    padding=\"same\"))\n",
        "\n",
        "cnn.add(tf.keras.layers.MaxPool2D(\n",
        "    pool_size=(2,2),\n",
        "    strides=2))"
      ]
    },
    {
      "cell_type": "markdown",
      "metadata": {
        "id": "wjBi7yCic5G3"
      },
      "source": [
        "### Adding a third convolutional layer"
      ]
    },
    {
      "cell_type": "code",
      "execution_count": null,
      "metadata": {
        "id": "-vcWH8oOdL5E"
      },
      "outputs": [],
      "source": [
        "cnn.add(tf.keras.layers.Conv2D(\n",
        "    filters=256,\n",
        "    kernel_size=(3,3),\n",
        "    strides=(1, 1),\n",
        "    activation=\"relu\",\n",
        "    padding=\"same\"))\n",
        "\n",
        "cnn.add(tf.keras.layers.MaxPool2D(\n",
        "    pool_size=(2,2),\n",
        "    strides=2))"
      ]
    },
    {
      "cell_type": "markdown",
      "metadata": {
        "id": "L3MNzfG3ehSR"
      },
      "source": [
        "### Dropout"
      ]
    },
    {
      "cell_type": "code",
      "execution_count": null,
      "metadata": {
        "id": "SkLp4Olyerd8"
      },
      "outputs": [],
      "source": [
        "cnn.add(tf.keras.layers.Dropout(0.3))"
      ]
    },
    {
      "cell_type": "markdown",
      "metadata": {
        "id": "tmiEuvTunKfk"
      },
      "source": [
        "### Step 3 - Flattening"
      ]
    },
    {
      "cell_type": "code",
      "execution_count": null,
      "metadata": {
        "id": "7xNLBMvWdgmE"
      },
      "outputs": [],
      "source": [
        "cnn.add(tf.keras.layers.Flatten())"
      ]
    },
    {
      "cell_type": "markdown",
      "metadata": {
        "id": "S59EpcPGfZ18"
      },
      "source": [
        "### Dropout"
      ]
    },
    {
      "cell_type": "code",
      "execution_count": null,
      "metadata": {
        "id": "0vu8NVrifb2g"
      },
      "outputs": [],
      "source": [
        "cnn.add(tf.keras.layers.Dropout(0.3))"
      ]
    },
    {
      "cell_type": "markdown",
      "metadata": {
        "id": "dAoSECOm203v"
      },
      "source": [
        "### Step 4 - Full Connection"
      ]
    },
    {
      "cell_type": "code",
      "execution_count": null,
      "metadata": {
        "id": "6p2tttQSfRxT"
      },
      "outputs": [],
      "source": [
        "cnn.add(tf.keras.layers.Dense(units=512, activation=\"relu\"))"
      ]
    },
    {
      "cell_type": "markdown",
      "metadata": {
        "id": "gRG6gBVAgFXy"
      },
      "source": [
        "### Dropout"
      ]
    },
    {
      "cell_type": "code",
      "source": [
        "cnn.add(tf.keras.layers.Dropout(0.3))"
      ],
      "metadata": {
        "id": "IC8P70rngGY_"
      },
      "execution_count": null,
      "outputs": []
    },
    {
      "cell_type": "markdown",
      "metadata": {
        "id": "r2qqdUimgf2G"
      },
      "source": [
        "### Step 4 - Second Full Connection"
      ]
    },
    {
      "cell_type": "code",
      "source": [
        "cnn.add(tf.keras.layers.Dense(units=1024, activation=\"relu\"))"
      ],
      "metadata": {
        "id": "A4VDXs9fggoT"
      },
      "execution_count": null,
      "outputs": []
    },
    {
      "cell_type": "markdown",
      "metadata": {
        "id": "yTldFvbX28Na"
      },
      "source": [
        "### Step 5 - Output Layer"
      ]
    },
    {
      "cell_type": "code",
      "execution_count": null,
      "metadata": {
        "id": "h_5dbkKMgJSO"
      },
      "outputs": [],
      "source": [
        "cnn.add(tf.keras.layers.Dense(units=29, activation=\"Softmax\"))"
      ]
    },
    {
      "cell_type": "markdown",
      "metadata": {
        "id": "D6XkI90snSDl"
      },
      "source": [
        "## Part 3 - Training the CNN"
      ]
    },
    {
      "cell_type": "markdown",
      "metadata": {
        "id": "vfrFQACEnc6i"
      },
      "source": [
        "### Compiling the CNN"
      ]
    },
    {
      "cell_type": "code",
      "execution_count": null,
      "metadata": {
        "id": "B_YDMnbyP06y"
      },
      "outputs": [],
      "source": [
        "from tensorflow.python import metrics\n",
        "from tensorflow import keras\n",
        "from tensorflow.keras import layers\n",
        "\n",
        "cnn.compile(optimizer=\"adam\", loss=\"categorical_crossentropy\", metrics=[\"accuracy\"])"
      ]
    },
    {
      "cell_type": "markdown",
      "metadata": {
        "id": "ehS-v3MIpX2h"
      },
      "source": [
        "### Training the CNN on the Training set and evaluating it on the Test set"
      ]
    },
    {
      "cell_type": "code",
      "execution_count": null,
      "metadata": {
        "id": "-XskcwUY3yT4"
      },
      "outputs": [],
      "source": [
        "es_callback = tf.keras.callbacks.EarlyStopping(monitor = 'accuracy' , patience=6)"
      ]
    },
    {
      "cell_type": "code",
      "execution_count": null,
      "metadata": {
        "id": "uqymaHaKunog"
      },
      "outputs": [],
      "source": [
        "initial_history = cnn.fit(x = training_set, \n",
        "                  validation_data = testing_set, \n",
        "                  epochs = 100,\n",
        "                  callbacks=[es_callback]\n",
        "                  )"
      ]
    },
    {
      "cell_type": "markdown",
      "source": [
        "## Saving the model"
      ],
      "metadata": {
        "id": "nrtFXnwjVGad"
      }
    },
    {
      "cell_type": "code",
      "source": [
        "from keras.models import load_model\n",
        "\n",
        "cnn.save('/content/drive/MyDrive/Colab Notebooks/CNN-Dhad.h5')"
      ],
      "metadata": {
        "id": "ippI4U5_zuBi"
      },
      "execution_count": null,
      "outputs": []
    },
    {
      "cell_type": "markdown",
      "source": [
        "# Saving Model History"
      ],
      "metadata": {
        "id": "6giGayB-h73J"
      }
    },
    {
      "cell_type": "code",
      "source": [
        "import pandas as pd\n",
        "\n",
        "# convert the history.history dict to a pandas DataFrame:     \n",
        "hist_df = pd.DataFrame(initial_history.history) \n",
        "\n",
        "# save to json:  \n",
        "hist_json_file = '/content/drive/MyDrive/Colab Notebooks/history323-256p6.json' \n",
        "with open(hist_json_file, mode='w') as f:\n",
        "    hist_df.to_json(f)\n",
        "\n",
        "# or save to csv: \n",
        "hist_csv_file = '/content/drive/MyDrive/Colab Notebooks/history323-256p6.csv'\n",
        "with open(hist_csv_file, mode='w') as f:\n",
        "    hist_df.to_csv(f)"
      ],
      "metadata": {
        "id": "Why-FO5oVM12"
      },
      "execution_count": null,
      "outputs": []
    },
    {
      "cell_type": "markdown",
      "source": [
        "## Overfitting Check"
      ],
      "metadata": {
        "id": "hRy-6QXJYqiT"
      }
    },
    {
      "cell_type": "code",
      "source": [
        "import matplotlib.pyplot as plt\n",
        "\n",
        "  #  \"Accuracy\"\n",
        "plt.plot(initial_history.history['accuracy'])\n",
        "plt.plot(initial_history.history['val_accuracy'])\n",
        "plt.title('model accuracy')\n",
        "plt.ylabel('accuracy')\n",
        "plt.xlabel('epoch')\n",
        "plt.legend(['train', 'validation'], loc='lower right')\n",
        "plt.show()\n",
        "  # \"Loss\"\n",
        "plt.plot(initial_history.history['loss'])\n",
        "plt.plot(initial_history.history['val_loss'])\n",
        "plt.title('model loss')\n",
        "plt.ylabel('loss')\n",
        "plt.xlabel('epoch')\n",
        "plt.legend(['train', 'validation'], loc='upper right')\n",
        "plt.show()"
      ],
      "metadata": {
        "id": "nAXhiU3bTcKh"
      },
      "execution_count": null,
      "outputs": []
    },
    {
      "cell_type": "markdown",
      "source": [
        "## Part 4 - Making prediction\n"
      ],
      "metadata": {
        "id": "mNdRIx2RcTKU"
      }
    },
    {
      "cell_type": "code",
      "source": [
        "from tensorflow.python.ops.metrics import accuracy\n",
        "import numpy\n",
        "import sklearn.metrics as metrics\n",
        "import math\n",
        "import matplotlib.pyplot as plt\n",
        "import pandas as pd\n",
        "from sklearn.metrics import accuracy_score, recall_score, precision_score, f1_score, classification_report\n",
        "\n",
        "test_datagen = ImageDataGenerator (\n",
        "    rescale=1./255,\n",
        ")\n",
        "test_data_generator = test_datagen.flow_from_directory (\n",
        "    \"/content/Dhad-Split/test\",\n",
        "    target_size=(32,32),\n",
        "    batch_size=32,\n",
        "    class_mode=\"categorical\",\n",
        "    color_mode=\"grayscale\",\n",
        "    shuffle=False\n",
        ")\n",
        "\n",
        "# define variables \n",
        "test_steps_per_epoch = numpy.math.ceil(test_data_generator.samples / test_data_generator.batch_size)\n",
        "predictions = cnn.predict(test_data_generator, steps=test_steps_per_epoch)\n",
        "predicted_classes = numpy.argmax(predictions, axis=1)\n",
        "true_classes = test_data_generator.classes\n",
        "class_labels = list(test_data_generator.class_indices.keys())  \n",
        "\n",
        "# confusion matrix \n",
        "confusion_matrix = metrics.confusion_matrix(true_classes, predicted_classes)\n",
        "\n",
        "# FP, FN, TP, TN\n",
        "FP = confusion_matrix.sum(axis=0) - numpy.diag(confusion_matrix)  \n",
        "FN = confusion_matrix.sum(axis=1) - numpy.diag(confusion_matrix)\n",
        "TP = numpy.diag(confusion_matrix)\n",
        "TN = confusion_matrix.sum() - (FP + FN + TP)\n",
        "\n",
        "# Sensitivity, hit rate, recall, or true positive rate\n",
        "TPR = TP/(TP+FN)\n",
        "# Specificity or true negative rate\n",
        "TNR = TN/(TN+FP) \n",
        "# Precision or positive predictive value\n",
        "PPV = TP/(TP+FP)\n",
        "# Negative predictive value\n",
        "NPV = TN/(TN+FN)\n",
        "# Fall out or false positive rate\n",
        "FPR = FP/(FP+TN)\n",
        "# False negative rate\n",
        "FNR = FN/(TP+FN)\n",
        "# False discovery rate\n",
        "FDR = FP/(TP+FP)\n",
        "# F1-Score\n",
        "F1 = 2 * ((PPV*TPR)/(PPV+TPR))\n",
        "\n",
        "# Overall accuracy\n",
        "ACC = (TP+TN)/(TP+FP+FN+TN)\n",
        "\n",
        "#######################################################################################################################\n",
        "\n",
        "per_class = confusion_matrix.diagonal()/confusion_matrix.sum(axis=0)\n",
        "\n",
        "m_accuracy = accuracy_score(true_classes, predicted_classes)\n",
        "m_precision = precision_score(true_classes, predicted_classes, average='macro')\n",
        "m_recall = recall_score(true_classes, predicted_classes, average='macro')\n",
        "m_f1score = f1_score(true_classes, predicted_classes, average='macro')\n",
        "\n",
        "w_accuracy = accuracy_score(true_classes, predicted_classes)\n",
        "w_precision = precision_score(true_classes, predicted_classes, average='weighted')\n",
        "w_recall = recall_score(true_classes, predicted_classes, average='weighted')\n",
        "w_f1score = f1_score(true_classes, predicted_classes, average='weighted')\n",
        "\n",
        "report = {\n",
        "    'Character': class_labels,\n",
        "    'Precision':numpy.round(PPV,4) * 100 ,\n",
        "    'Recall': numpy.round(TPR,4) * 100,\n",
        "    'F1-Score': numpy.round(F1,4) * 100\n",
        "    }\n",
        "df = pd.DataFrame(report)\n",
        "print(df)\n",
        "print()\n",
        "\n",
        "avg = {\n",
        "    ' ': ['Macro Average', 'Weighted Average'],\n",
        "    'Precision': [numpy.round(m_precision,4) * 100, numpy.round(w_precision,4) * 100],\n",
        "    'Recall': [numpy.round(m_recall,4) *100, numpy.round(w_recall,4) * 100],\n",
        "    'F1-Score': [numpy.round(m_f1score,4) * 100, numpy.round(w_f1score,4) * 100],\n",
        "    'Accuracy': ['', numpy.round(w_accuracy,4) * 100]\n",
        "}\n",
        "dfa = pd.DataFrame(avg)\n",
        "print(dfa)"
      ],
      "metadata": {
        "id": "Q5WsBurGcXr1"
      },
      "execution_count": null,
      "outputs": []
    }
  ],
  "metadata": {
    "accelerator": "GPU",
    "colab": {
      "machine_shape": "hm",
      "provenance": []
    },
    "gpuClass": "premium",
    "kernelspec": {
      "display_name": "Python 3 (ipykernel)",
      "language": "python",
      "name": "python3"
    },
    "language_info": {
      "codemirror_mode": {
        "name": "ipython",
        "version": 3
      },
      "file_extension": ".py",
      "mimetype": "text/x-python",
      "name": "python",
      "nbconvert_exporter": "python",
      "pygments_lexer": "ipython3",
      "version": "3.10.9"
    }
  },
  "nbformat": 4,
  "nbformat_minor": 0
}