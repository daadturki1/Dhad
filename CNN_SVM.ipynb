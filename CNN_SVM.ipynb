{
  "cells": [
    {
      "cell_type": "code",
      "execution_count": null,
      "metadata": {
        "id": "_psjzSt9ffP2"
      },
      "outputs": [],
      "source": [
        "import tensorflow as tf\n",
        "import sys\n",
        "from keras.preprocessing.image import ImageDataGenerator\n",
        "from pathlib import Path\n",
        "import tqdm\n",
        "import numpy as np\n",
        "from tensorflow.python import metrics\n",
        "from tensorflow import keras\n",
        "from tensorflow.keras import layers\n",
        "from google.colab import drive\n",
        "from keras.models import load_model\n",
        "from keras.models import Sequential, Model\n",
        "from sklearn import svm\n",
        "from keras.models import load_model\n",
        "import matplotlib.pyplot as plt\n",
        "from tensorflow.python.ops.metrics import accuracy\n",
        "import numpy\n",
        "import sklearn.metrics as metrics\n",
        "import math\n",
        "import matplotlib.pyplot as plt\n",
        "import pandas as pd\n",
        "from sklearn.metrics import accuracy_score, recall_score, precision_score, f1_score, classification_report\n",
        "from sklearn.svm import SVC\n",
        "import docx"
      ]
    },
    {
      "cell_type": "code",
      "execution_count": null,
      "metadata": {
        "colab": {
          "base_uri": "https://localhost:8080/"
        },
        "id": "fYAD-3Ewfkhg",
        "outputId": "2280adbb-e117-4ce4-d2ab-3c9436734119"
      },
      "outputs": [
        {
          "output_type": "stream",
          "name": "stdout",
          "text": [
            "Done\n"
          ]
        }
      ],
      "source": [
        "from zipfile import ZipFile\n",
        "file_name = \"Hijja-Split.zip\"\n",
        "\n",
        "with ZipFile(file_name, 'r') as zip:\n",
        "  zip.extractall()\n",
        "  print('Done')"
      ]
    },
    {
      "cell_type": "code",
      "execution_count": null,
      "metadata": {
        "colab": {
          "base_uri": "https://localhost:8080/"
        },
        "id": "870IYF6pfnmh",
        "outputId": "22942eb6-57b7-4aff-9141-c09847b59d08"
      },
      "outputs": [
        {
          "output_type": "stream",
          "name": "stdout",
          "text": [
            "Found 56898 images belonging to 29 classes.\n"
          ]
        },
        {
          "output_type": "stream",
          "name": "stderr",
          "text": [
            "100%|██████████| 1777/1777 [01:32<00:00, 19.27it/s]"
          ]
        },
        {
          "output_type": "stream",
          "name": "stdout",
          "text": [
            "(56896, 32, 32, 1) (56896, 29)\n"
          ]
        },
        {
          "output_type": "stream",
          "name": "stderr",
          "text": [
            "\n"
          ]
        }
      ],
      "source": [
        "train_datagen = ImageDataGenerator (\n",
        "    rescale = 1./255.,\n",
        ")\n",
        "training_set = train_datagen.flow_from_directory (\n",
        "    \"/content/content/Hijja-Split-OG/train\",  \n",
        "    target_size=(32,32),\n",
        "    batch_size=32,\n",
        "    class_mode=\"categorical\",\n",
        "    color_mode=\"grayscale\",\n",
        "    shuffle=True,\n",
        "    seed=42\n",
        ")\n",
        "\n",
        "# extract X and Y\n",
        "training_set.reset()\n",
        "X_train, y_train = next(training_set)\n",
        "for i in tqdm.tqdm(range(int(training_set.n/32)-1)): \n",
        "  img, label = next(training_set)\n",
        "  X_train = np.append(X_train, img, axis=0 )\n",
        "  y_train = np.append(y_train, label, axis=0)\n",
        "print(X_train.shape, y_train.shape)"
      ]
    },
    {
      "cell_type": "code",
      "execution_count": null,
      "metadata": {
        "colab": {
          "base_uri": "https://localhost:8080/"
        },
        "id": "2Uhypqu2fuNF",
        "outputId": "34ebe9c9-9240-4429-ca1c-0c9be77e039c"
      },
      "outputs": [
        {
          "output_type": "stream",
          "name": "stdout",
          "text": [
            "Found 9474 images belonging to 29 classes.\n"
          ]
        },
        {
          "output_type": "stream",
          "name": "stderr",
          "text": [
            "100%|██████████| 295/295 [00:03<00:00, 83.23it/s]"
          ]
        },
        {
          "output_type": "stream",
          "name": "stdout",
          "text": [
            "(9472, 32, 32, 1) (9472, 29)\n"
          ]
        },
        {
          "output_type": "stream",
          "name": "stderr",
          "text": [
            "\n"
          ]
        }
      ],
      "source": [
        "val_datagen = ImageDataGenerator (\n",
        "    rescale=1./255,\n",
        ")\n",
        "validation_set = val_datagen.flow_from_directory (\n",
        "    \"/content/content/Hijja-Split-OG/val\",  \n",
        "    target_size=(32,32),\n",
        "    batch_size=32,\n",
        "    class_mode=\"categorical\",\n",
        "    color_mode=\"grayscale\",\n",
        "    shuffle=True,\n",
        "    seed=42\n",
        ")\n",
        "\n",
        "# extract X and Y\n",
        "validation_set.reset()\n",
        "X_val, y_val = next(validation_set)\n",
        "for i in tqdm.tqdm(range(int(validation_set.n/32)-1)): \n",
        "  img, label = next(validation_set)\n",
        "  X_val = np.append(X_val, img, axis=0 )\n",
        "  y_val = np.append(y_val, label, axis=0)\n",
        "print(X_val.shape, y_val.shape)"
      ]
    },
    {
      "cell_type": "code",
      "execution_count": null,
      "metadata": {
        "colab": {
          "base_uri": "https://localhost:8080/"
        },
        "id": "k64e1-P7fwkn",
        "outputId": "a34bfc52-acaf-4289-cf25-412e86f76062"
      },
      "outputs": [
        {
          "output_type": "stream",
          "name": "stdout",
          "text": [
            "Found 9514 images belonging to 29 classes.\n"
          ]
        },
        {
          "output_type": "stream",
          "name": "stderr",
          "text": [
            "100%|██████████| 296/296 [00:03<00:00, 83.31it/s]"
          ]
        },
        {
          "output_type": "stream",
          "name": "stdout",
          "text": [
            "(9504, 32, 32, 1) (9504, 29)\n"
          ]
        },
        {
          "output_type": "stream",
          "name": "stderr",
          "text": [
            "\n"
          ]
        }
      ],
      "source": [
        "test_datagen = ImageDataGenerator (\n",
        "    rescale=1./255,\n",
        ")\n",
        "testing_set = test_datagen.flow_from_directory (\n",
        "    \"/content/content/Hijja-Split-OG/test\",  \n",
        "    target_size=(32,32),\n",
        "    batch_size=32,\n",
        "    class_mode=\"categorical\",\n",
        "    color_mode=\"grayscale\",\n",
        "    shuffle=True,\n",
        "    seed=42\n",
        ")\n",
        "\n",
        "# extract X and Y\n",
        "testing_set.reset()\n",
        "X_test, y_test = next(testing_set)\n",
        "for i in tqdm.tqdm(range(int(testing_set.n/32)-1)): \n",
        "  img, label = next(testing_set)\n",
        "  X_test = np.append(X_test, img, axis=0 )\n",
        "  y_test = np.append(y_test, label, axis=0)\n",
        "print(X_test.shape, y_test.shape)"
      ]
    },
    {
      "cell_type": "code",
      "execution_count": null,
      "metadata": {
        "colab": {
          "base_uri": "https://localhost:8080/"
        },
        "id": "kCYSbLGUfz-f",
        "outputId": "a8e917ee-d559-432b-868a-163881ab23dc"
      },
      "outputs": [
        {
          "output_type": "stream",
          "name": "stdout",
          "text": [
            "Model: \"sequential_2\"\n",
            "_________________________________________________________________\n",
            " Layer (type)                Output Shape              Param #   \n",
            "=================================================================\n",
            " conv2d_6 (Conv2D)           (None, 32, 32, 64)        640       \n",
            "                                                                 \n",
            " max_pooling2d_6 (MaxPooling  (None, 16, 16, 64)       0         \n",
            " 2D)                                                             \n",
            "                                                                 \n",
            " conv2d_7 (Conv2D)           (None, 16, 16, 128)       73856     \n",
            "                                                                 \n",
            " max_pooling2d_7 (MaxPooling  (None, 8, 8, 128)        0         \n",
            " 2D)                                                             \n",
            "                                                                 \n",
            " conv2d_8 (Conv2D)           (None, 8, 8, 256)         295168    \n",
            "                                                                 \n",
            " max_pooling2d_8 (MaxPooling  (None, 4, 4, 256)        0         \n",
            " 2D)                                                             \n",
            "                                                                 \n",
            " dropout_6 (Dropout)         (None, 4, 4, 256)         0         \n",
            "                                                                 \n",
            " flatten_2 (Flatten)         (None, 4096)              0         \n",
            "                                                                 \n",
            " dropout_7 (Dropout)         (None, 4096)              0         \n",
            "                                                                 \n",
            " dense_6 (Dense)             (None, 128)               524416    \n",
            "                                                                 \n",
            " dropout_8 (Dropout)         (None, 128)               0         \n",
            "                                                                 \n",
            " dense_7 (Dense)             (None, 128)               16512     \n",
            "                                                                 \n",
            "=================================================================\n",
            "Total params: 910,592\n",
            "Trainable params: 910,592\n",
            "Non-trainable params: 0\n",
            "_________________________________________________________________\n"
          ]
        }
      ],
      "source": [
        "cnn = load_model('/content/drive/MyDrive/Colab Notebooks/EXP4-Arch2/CNN-Hijjaa.h5')\n",
        "\n",
        "cnn.pop() # this will remove the last layer\n",
        "cnn.summary() # check the network "
      ]
    },
    {
      "cell_type": "code",
      "execution_count": null,
      "metadata": {
        "colab": {
          "base_uri": "https://localhost:8080/"
        },
        "id": "ZVw2Hrgyf3ra",
        "outputId": "5062de4b-0c45-41f7-c39a-0e4459343ee1"
      },
      "outputs": [
        {
          "output_type": "stream",
          "name": "stdout",
          "text": [
            "1778/1778 [==============================] - 10s 2ms/step\n",
            "(56896, 128)\n",
            "296/296 [==============================] - 0s 2ms/step\n",
            "(9472, 128)\n"
          ]
        }
      ],
      "source": [
        "model_feat = Model(inputs=cnn.input,outputs=cnn.get_layer('dense_7').output)\n",
        "\n",
        "feat_train = model_feat.predict(X_train)\n",
        "print(feat_train.shape)\n",
        "\n",
        "feat_val = model_feat.predict(X_val)\n",
        "print(feat_val.shape)"
      ]
    },
    {
      "cell_type": "code",
      "source": [
        "feat_test = model_feat.predict(X_test)\n",
        "print(feat_test.shape)"
      ],
      "metadata": {
        "colab": {
          "base_uri": "https://localhost:8080/"
        },
        "id": "Iv_XMoKBJGU5",
        "outputId": "964bfd1e-0e08-4e99-c4b1-1af4edaf1c3a"
      },
      "execution_count": null,
      "outputs": [
        {
          "output_type": "stream",
          "name": "stdout",
          "text": [
            "297/297 [==============================] - 0s 2ms/step\n",
            "(9504, 128)\n"
          ]
        }
      ]
    },
    {
      "cell_type": "code",
      "execution_count": null,
      "metadata": {
        "colab": {
          "base_uri": "https://localhost:8080/"
        },
        "id": "uvDQTfzkf6IQ",
        "outputId": "d5141ccc-7acc-4709-cab5-3a57e13ebe4f"
      },
      "outputs": [
        {
          "output_type": "stream",
          "name": "stdout",
          "text": [
            "fitting done\n"
          ]
        }
      ],
      "source": [
        "svm = SVC(kernel='rbf', C=3, gamma=0.001)\n",
        "svm.fit(feat_train,np.argmax(y_train,axis=1))\n",
        "\n",
        "print('fitting done')"
      ]
    },
    {
      "cell_type": "code",
      "execution_count": null,
      "metadata": {
        "colab": {
          "base_uri": "https://localhost:8080/"
        },
        "id": "qi_tcrRDgAB2",
        "outputId": "59907c5a-fb85-45fd-b0cf-51e3e71da2d7"
      },
      "outputs": [
        {
          "output_type": "execute_result",
          "data": {
            "text/plain": [
              "85.72"
            ]
          },
          "metadata": {},
          "execution_count": 12
        }
      ],
      "source": [
        "round(svm.score(feat_val,np.argmax(y_val,axis=1)),4) *100"
      ]
    },
    {
      "cell_type": "code",
      "execution_count": null,
      "metadata": {
        "id": "J7n7kW6WojBK"
      },
      "outputs": [],
      "source": [
        "import pickle\n",
        "# now you can save it to a file\n",
        "filename = '/content/drive/MyDrive/Colab Notebooks/EXP4-CNN-SVM/CNN-SVM-Hijja.pkl'\n",
        "with open(filename, 'wb') as f:\n",
        "    pickle.dump(svm, f)"
      ]
    },
    {
      "cell_type": "code",
      "execution_count": null,
      "metadata": {
        "id": "AmdkTPalpGbU"
      },
      "outputs": [],
      "source": [
        "# # and later you can load it\n",
        "# filename = '/content/drive/MyDrive/Colab Notebooks/EXP4-CNN-SVM/CNN-SVM-Hijjaa.pkl'\n",
        "# with open(filename, 'rb') as f:\n",
        "#   svm = pickle.load(f)"
      ]
    },
    {
      "cell_type": "code",
      "source": [
        "# define variables \n",
        "predictions = svm.predict(feat_test)\n",
        "class_labels = list(testing_set.class_indices.keys())  \n",
        "\n",
        "# confusion matrix \n",
        "confusion_matrix = metrics.confusion_matrix(np.argmax(y_test,axis=1), predictions)\n",
        "\n",
        "# FP, FN, TP, TN\n",
        "FP = confusion_matrix.sum(axis=0) - numpy.diag(confusion_matrix)  \n",
        "FN = confusion_matrix.sum(axis=1) - numpy.diag(confusion_matrix)\n",
        "TP = numpy.diag(confusion_matrix)\n",
        "TN = confusion_matrix.sum() - (FP + FN + TP)\n",
        "\n",
        "# Sensitivity, hit rate, recall, or true positive rate\n",
        "TPR = TP/(TP+FN)\n",
        "# Specificity or true negative rate\n",
        "TNR = TN/(TN+FP) \n",
        "# Precision or positive predictive value\n",
        "PPV = TP/(TP+FP)\n",
        "# Negative predictive value\n",
        "NPV = TN/(TN+FN)\n",
        "# Fall out or false positive rate\n",
        "FPR = FP/(FP+TN)\n",
        "# False negative rate\n",
        "FNR = FN/(TP+FN)\n",
        "# False discovery rate\n",
        "FDR = FP/(TP+FP)\n",
        "# F1-Score\n",
        "F1 = 2 * ((PPV*TPR)/(PPV+TPR))\n",
        "\n",
        "# Overall accuracy\n",
        "ACC = (TP+TN)/(TP+FP+FN+TN)\n",
        "\n",
        "#######################################################################################################################\n",
        "\n",
        "per_class = confusion_matrix.diagonal()/confusion_matrix.sum(axis=0)\n",
        "\n",
        "m_precision = precision_score(np.argmax(y_test,axis=1), predictions, average='macro')\n",
        "m_recall = recall_score(np.argmax(y_test,axis=1), predictions, average='macro')\n",
        "m_f1score = f1_score(np.argmax(y_test,axis=1), predictions, average='macro')\n",
        "\n",
        "w_accuracy = accuracy_score(np.argmax(y_test,axis=1), predictions)\n",
        "w_precision = precision_score(np.argmax(y_test,axis=1), predictions, average='weighted')\n",
        "w_recall = recall_score(np.argmax(y_test,axis=1), predictions, average='weighted')\n",
        "w_f1score = f1_score(np.argmax(y_test,axis=1), predictions, average='weighted')\n",
        "\n",
        "report = {\n",
        "    'Character': class_labels,\n",
        "    'Precision':numpy.round(PPV,4) * 100 ,\n",
        "    'Recall': numpy.round(TPR,4) * 100,\n",
        "    'F1-Score': numpy.round(F1,4) * 100\n",
        "    }\n",
        "df = pd.DataFrame(report)\n",
        "print(df)\n",
        "print()\n",
        "\n",
        "avg = {\n",
        "    ' ': ['Macro Average', 'Weighted Average'],\n",
        "    'Precision': [numpy.round(m_precision,4) * 100, numpy.round(w_precision,4) * 100],\n",
        "    'Recall': [numpy.round(m_recall,4) *100, numpy.round(w_recall,4) * 100],\n",
        "    'F1-Score': [numpy.round(m_f1score,4) * 100, numpy.round(w_f1score,4) * 100],\n",
        "    'Accuracy': ['', numpy.round(w_accuracy,4) * 100]\n",
        "}\n",
        "dfa = pd.DataFrame(avg)\n",
        "print(dfa)"
      ],
      "metadata": {
        "colab": {
          "base_uri": "https://localhost:8080/"
        },
        "id": "xrITMfLx2cUH",
        "outputId": "e8aaa623-24c6-49b3-bab0-fc31d48b76e1"
      },
      "execution_count": null,
      "outputs": [
        {
          "output_type": "stream",
          "name": "stdout",
          "text": [
            "    Character  Precision  Recall  F1-Score\n",
            "0      1-alif      98.15   96.72     97.43\n",
            "1      10-raa      87.57   87.06     87.32\n",
            "2     11-zeyn      91.77   84.80     88.15\n",
            "3     12-seen      89.14   92.22     90.65\n",
            "4    13-sheen      91.67   86.84     89.19\n",
            "5      14-sad      81.22   84.97     83.05\n",
            "6     15-dhad      82.66   84.12     83.38\n",
            "7     16-t'aa      83.55   90.91     87.07\n",
            "8    17-th'aa      89.67   86.26     87.93\n",
            "9     18-ayen      77.62   80.75     79.15\n",
            "10  19-ghayen      84.11   78.26     81.08\n",
            "11      2-baa      88.51   93.91     91.13\n",
            "12     20-faa      71.98   80.69     76.09\n",
            "13    21-ghaf      90.88   80.17     85.19\n",
            "14     22-kaf      87.02   84.77     85.88\n",
            "15     23-lam      84.49   90.54     87.41\n",
            "16    24-meem      88.10   90.41     89.24\n",
            "17    25-noon      71.43   77.03     74.12\n",
            "18     26-haa      88.06   85.01     86.51\n",
            "19     27-waw      91.38   90.34     90.86\n",
            "20     28-yaa      94.22   89.34     91.72\n",
            "21   29-hamza      83.63   82.16     82.89\n",
            "22      3-taa      81.67   81.67     81.67\n",
            "23     4-thaa      80.74   83.61     82.15\n",
            "24     5-jeem      91.11   88.41     89.74\n",
            "25     6-h'aa      79.84   82.43     81.12\n",
            "26     7-khaa      86.54   76.49     81.21\n",
            "27      8-dal      72.22   73.03     72.63\n",
            "28     9-thal      67.92   62.79     65.26\n",
            "\n",
            "                     Precision  Recall  F1-Score Accuracy\n",
            "0     Macro Average      84.72   84.33     84.46         \n",
            "1  Weighted Average      85.22   85.02     85.04    85.02\n"
          ]
        }
      ]
    }
  ],
  "metadata": {
    "accelerator": "GPU",
    "colab": {
      "machine_shape": "hm",
      "provenance": []
    },
    "gpuClass": "premium",
    "kernelspec": {
      "display_name": "Python 3",
      "name": "python3"
    },
    "language_info": {
      "name": "python"
    }
  },
  "nbformat": 4,
  "nbformat_minor": 0
}